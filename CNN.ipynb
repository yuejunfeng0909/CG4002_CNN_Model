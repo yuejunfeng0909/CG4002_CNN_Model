{
 "cells": [
  {
   "cell_type": "code",
   "execution_count": 1,
   "metadata": {},
   "outputs": [],
   "source": [
    "import torch\n",
    "import torch.nn as nn\n",
    "import torch.nn.functional as F\n",
    "import torch.optim as optim\n",
    "\n",
    "import pandas as pd\n",
    "import numpy as np\n",
    "import scipy\n",
    "import matplotlib.pyplot as plt"
   ]
  },
  {
   "cell_type": "markdown",
   "metadata": {},
   "source": [
    "# Process dataset\n",
    "Extract data from the txt file for each user. We only extract the data for the time frame where the user is doing one action, not across different actions. Then we segment the data into 2 seconds window."
   ]
  },
  {
   "cell_type": "code",
   "execution_count": 54,
   "metadata": {},
   "outputs": [
    {
     "name": "stdout",
     "output_type": "stream",
     "text": [
      "Dataset initialized with size: 4429\n",
      "Class 0 has 1161 samples\n",
      "Class 1 has 1078 samples\n",
      "Class 2 has 979 samples\n",
      "Class 3 has 1211 samples\n",
      "shape of data: (6, 100)\n"
     ]
    }
   ],
   "source": [
    "N_classes = 4\n",
    "\n",
    "class MotionDataset(torch.utils.data.Dataset):\n",
    "    \n",
    "    def __init__(self, data_directory, window_size=100, is_train=True, transform=None):\n",
    "        self.data_directory = data_directory\n",
    "        self.window_size = window_size\n",
    "        self.is_train = is_train\n",
    "        self.dataset_x = []\n",
    "        self.dataset_y = []\n",
    "        self._initialize_dataset()\n",
    "\n",
    "    def _initialize_dataset(self):\n",
    "        raw_labels = open(self.data_directory + \"/labels.txt\", \"r\")\n",
    "        self.dataset_x = []\n",
    "        self.dataset_y = []\n",
    "        current_exp, current_user = 0, 0\n",
    "        acc_current_file_lines = []\n",
    "        gyro_current_file_lines = []\n",
    "        for line in raw_labels:\n",
    "            # get the experiment and user data\n",
    "            line_split = list(map(int,line.split()))\n",
    "\n",
    "            # filter out the transition movements\n",
    "            if line_split[2] > N_classes:\n",
    "                continue\n",
    "\n",
    "            # open new file if the current experiment and user are different from the previous run\n",
    "            if line_split[0] != current_exp or line_split[1] != current_user:\n",
    "                current_exp, current_user = line_split[0], line_split[1]\n",
    "\n",
    "                # Get the accelerometer data\n",
    "                current_file = open(self.data_directory + \"/acc_exp\" + str.zfill(str(current_exp), 2) + \"_user\" + str.zfill(str(current_user), 2) + \".txt\", \"r\")\n",
    "                # print(\"Opened file: \" + current_file.name)\n",
    "                # process lines\n",
    "                acc_current_file_lines = []\n",
    "                for file_line in current_file:\n",
    "                    acc_current_file_lines.append(list(map(float, file_line.split())))\n",
    "                current_file.close()\n",
    "\n",
    "                # Get the gyro data\n",
    "                current_file = open(self.data_directory + \"/gyro_exp\" + str.zfill(str(current_exp), 2) + \"_user\" + str.zfill(str(current_user), 2) + \".txt\", \"r\")\n",
    "                # print(\"Opened file: \" + current_file.name)\n",
    "                gyro_current_file_lines = []\n",
    "                for file_line in current_file:\n",
    "                    gyro_current_file_lines.append(list(map(float, file_line.split())))\n",
    "                current_file.close()\n",
    "            \n",
    "            # get the label, start and end indices\n",
    "            label, start, end = line_split[2:5]\n",
    "            label -= 1 # convert to 0-indexed\n",
    "\n",
    "            # sliding window\n",
    "            for i in range(start, end - window_size, window_size):\n",
    "                # calculate fft for the window\n",
    "                acc_window = acc_current_file_lines[i:i+window_size]\n",
    "                gyro_window = gyro_current_file_lines[i:i+window_size]\n",
    "                inputs = np.concatenate((acc_window, gyro_window), axis=1)\n",
    "                inputs = np.float32(np.transpose(inputs))\n",
    "                self.dataset_x.append(inputs)\n",
    "                self.dataset_y.append(label)\n",
    "\n",
    "        raw_labels.close()\n",
    "\n",
    "        print(\"Dataset initialized with size: \" + str(len(self.dataset_y)))\n",
    "        for i in range(N_classes):\n",
    "            print(\"Class \" + str(i) + \" has \" + str(self.dataset_y.count(i)) + \" samples\")\n",
    "\n",
    "    def __len__(self):\n",
    "        return len(self.dataset_y)\n",
    "\n",
    "    def __getitem__(self, idx):\n",
    "        return self.dataset_x[idx], self.dataset_y[idx]\n",
    "\n",
    "window_size = 100   # 50Hz, 100 samples = 2s of movement\n",
    "dataset = MotionDataset(\"HAPT Data Set/RawData\", window_size)\n",
    "classes = ('WALKING', 'WALKING_UPSTAIRS', 'WALKING_DOWNSTAIRS', 'SITTING', 'STANDING')\n",
    "print(\"shape of data: \" + str(dataset[0][0].shape))"
   ]
  },
  {
   "cell_type": "code",
   "execution_count": 55,
   "metadata": {},
   "outputs": [
    {
     "data": {
      "text/plain": [
       "(6, 100)"
      ]
     },
     "execution_count": 55,
     "metadata": {},
     "output_type": "execute_result"
    }
   ],
   "source": [
    "# Sample data\n",
    "dataset[0][0].shape"
   ]
  },
  {
   "cell_type": "code",
   "execution_count": 56,
   "metadata": {},
   "outputs": [],
   "source": [
    "# Setup training and testing data\n",
    "batch_size = 32\n",
    "train_size = int(0.8 * len(dataset))\n",
    "test_size = len(dataset) - train_size\n",
    "train_dataset, test_dataset = torch.utils.data.random_split(dataset, [train_size, test_size])\n",
    "train_loader = torch.utils.data.DataLoader(train_dataset, batch_size=batch_size, shuffle=True)\n",
    "test_loader = torch.utils.data.DataLoader(test_dataset, batch_size=batch_size, shuffle=True)\n"
   ]
  },
  {
   "cell_type": "code",
   "execution_count": 57,
   "metadata": {},
   "outputs": [
    {
     "name": "stdout",
     "output_type": "stream",
     "text": [
      "mps\n"
     ]
    }
   ],
   "source": [
    "device = torch.device(\"mps\")\n",
    "# device = torch.device(\"cpu\")\n",
    "print(device)"
   ]
  },
  {
   "cell_type": "markdown",
   "metadata": {},
   "source": [
    "# Setup the model"
   ]
  },
  {
   "cell_type": "code",
   "execution_count": 58,
   "metadata": {},
   "outputs": [
    {
     "name": "stdout",
     "output_type": "stream",
     "text": [
      "(6, 100)\n"
     ]
    },
    {
     "name": "stderr",
     "output_type": "stream",
     "text": [
      "/opt/anaconda3/envs/capstone/lib/python3.9/site-packages/torch/nn/modules/lazy.py:180: UserWarning: Lazy modules are a new feature under heavy development so changes to the API or functionality can happen at any moment.\n",
      "  warnings.warn('Lazy modules are a new feature under heavy development '\n"
     ]
    },
    {
     "data": {
      "text/plain": [
       "Sequential(\n",
       "  (0): Conv1d(6, 64, kernel_size=(6,), stride=(1,))\n",
       "  (1): ReLU()\n",
       "  (2): Conv1d(64, 64, kernel_size=(6,), stride=(1,))\n",
       "  (3): ReLU()\n",
       "  (4): Flatten(start_dim=1, end_dim=-1)\n",
       "  (5): LazyLinear(in_features=0, out_features=4, bias=True)\n",
       "  (6): Softmax(dim=None)\n",
       ")"
      ]
     },
     "execution_count": 58,
     "metadata": {},
     "output_type": "execute_result"
    }
   ],
   "source": [
    "input_size = dataset[0][0].shape\n",
    "print(input_size)\n",
    "\n",
    "net = torch.nn.Sequential(\n",
    "    torch.nn.Conv1d(6, 64, kernel_size=6, stride=1, padding=0),\n",
    "    torch.nn.ReLU(),\n",
    "    torch.nn.Conv1d(64, 64, kernel_size=6, stride=1, padding=0),\n",
    "    torch.nn.ReLU(),\n",
    "    torch.nn.Flatten(),\n",
    "    torch.nn.LazyLinear(N_classes),\n",
    "    torch.nn.Softmax()\n",
    ")\n",
    "\n",
    "net.to(device)"
   ]
  },
  {
   "cell_type": "code",
   "execution_count": 59,
   "metadata": {},
   "outputs": [],
   "source": [
    "criterion = nn.CrossEntropyLoss().cuda()\n",
    "optimizer = optim.Adam(net.parameters(), lr=0.001, amsgrad=True)\n",
    "# optimizer = optim.SGD(net.parameters(), lr=0.01)\n",
    "scheduler = optim.lr_scheduler.ReduceLROnPlateau(optimizer, mode='max', factor=0.5, patience=5, verbose=True)"
   ]
  },
  {
   "cell_type": "code",
   "execution_count": 60,
   "metadata": {},
   "outputs": [],
   "source": [
    "min_valid_loss = np.inf\n",
    "epochs = 100"
   ]
  },
  {
   "cell_type": "code",
   "execution_count": 61,
   "metadata": {},
   "outputs": [
    {
     "name": "stderr",
     "output_type": "stream",
     "text": [
      "/opt/anaconda3/envs/capstone/lib/python3.9/site-packages/torch/nn/modules/container.py:204: UserWarning: Implicit dimension choice for softmax has been deprecated. Change the call to include dim=X as an argument.\n",
      "  input = module(input)\n"
     ]
    },
    {
     "name": "stdout",
     "output_type": "stream",
     "text": [
      "[Epoch: 1] \t Training Loss: 0.980159 \t Validation Loss: 0.919870 \t Accuracy: 0.821670\n",
      "evaluation loss reduced, model saved\n",
      "[Epoch: 2] \t Training Loss: 0.868010 \t Validation Loss: 0.840944 \t Accuracy: 0.910835\n",
      "evaluation loss reduced, model saved\n",
      "[Epoch: 3] \t Training Loss: 0.817550 \t Validation Loss: 0.796667 \t Accuracy: 0.951467\n",
      "evaluation loss reduced, model saved\n",
      "[Epoch: 4] \t Training Loss: 0.782856 \t Validation Loss: 0.783879 \t Accuracy: 0.966140\n",
      "evaluation loss reduced, model saved\n",
      "[Epoch: 5] \t Training Loss: 0.771638 \t Validation Loss: 0.775548 \t Accuracy: 0.972912\n",
      "evaluation loss reduced, model saved\n",
      "[Epoch: 6] \t Training Loss: 0.773124 \t Validation Loss: 0.774899 \t Accuracy: 0.969526\n",
      "evaluation loss reduced, model saved\n",
      "[Epoch: 7] \t Training Loss: 0.765664 \t Validation Loss: 0.769959 \t Accuracy: 0.976298\n",
      "evaluation loss reduced, model saved\n",
      "[Epoch: 8] \t Training Loss: 0.761204 \t Validation Loss: 0.764844 \t Accuracy: 0.983070\n",
      "evaluation loss reduced, model saved\n",
      "[Epoch: 9] \t Training Loss: 0.754818 \t Validation Loss: 0.762825 \t Accuracy: 0.983070\n",
      "evaluation loss reduced, model saved\n",
      "[Epoch:10] \t Training Loss: 0.755964 \t Validation Loss: 0.763576 \t Accuracy: 0.981941\n",
      "[Epoch:11] \t Training Loss: 0.754205 \t Validation Loss: 0.762161 \t Accuracy: 0.981941\n",
      "evaluation loss reduced, model saved\n",
      "[Epoch:12] \t Training Loss: 0.750421 \t Validation Loss: 0.757283 \t Accuracy: 0.987585\n",
      "evaluation loss reduced, model saved\n",
      "[Epoch:13] \t Training Loss: 0.750747 \t Validation Loss: 0.756795 \t Accuracy: 0.989842\n",
      "evaluation loss reduced, model saved\n",
      "[Epoch:14] \t Training Loss: 0.750045 \t Validation Loss: 0.755580 \t Accuracy: 0.988713\n",
      "evaluation loss reduced, model saved\n",
      "[Epoch:15] \t Training Loss: 0.749204 \t Validation Loss: 0.754659 \t Accuracy: 0.989842\n",
      "evaluation loss reduced, model saved\n",
      "[Epoch:16] \t Training Loss: 0.748681 \t Validation Loss: 0.754163 \t Accuracy: 0.988713\n",
      "evaluation loss reduced, model saved\n",
      "[Epoch:17] \t Training Loss: 0.748602 \t Validation Loss: 0.755056 \t Accuracy: 0.989842\n",
      "[Epoch:18] \t Training Loss: 0.748516 \t Validation Loss: 0.755806 \t Accuracy: 0.988713\n",
      "[Epoch:19] \t Training Loss: 0.748312 \t Validation Loss: 0.754778 \t Accuracy: 0.988713\n",
      "Epoch 00019: reducing learning rate of group 0 to 5.0000e-04.\n",
      "[Epoch:20] \t Training Loss: 0.748286 \t Validation Loss: 0.754704 \t Accuracy: 0.988713\n",
      "[Epoch:21] \t Training Loss: 0.748278 \t Validation Loss: 0.754669 \t Accuracy: 0.988713\n",
      "[Epoch:22] \t Training Loss: 0.748272 \t Validation Loss: 0.755211 \t Accuracy: 0.988713\n",
      "[Epoch:23] \t Training Loss: 0.748268 \t Validation Loss: 0.754764 \t Accuracy: 0.988713\n",
      "[Epoch:24] \t Training Loss: 0.748264 \t Validation Loss: 0.754753 \t Accuracy: 0.988713\n",
      "[Epoch:25] \t Training Loss: 0.748260 \t Validation Loss: 0.754789 \t Accuracy: 0.988713\n",
      "Epoch 00025: reducing learning rate of group 0 to 2.5000e-04.\n",
      "[Epoch:26] \t Training Loss: 0.748257 \t Validation Loss: 0.754763 \t Accuracy: 0.988713\n",
      "[Epoch:27] \t Training Loss: 0.748255 \t Validation Loss: 0.754748 \t Accuracy: 0.988713\n",
      "[Epoch:28] \t Training Loss: 0.748253 \t Validation Loss: 0.754986 \t Accuracy: 0.988713\n",
      "[Epoch:29] \t Training Loss: 0.748252 \t Validation Loss: 0.754725 \t Accuracy: 0.988713\n",
      "[Epoch:30] \t Training Loss: 0.748251 \t Validation Loss: 0.754754 \t Accuracy: 0.988713\n",
      "[Epoch:31] \t Training Loss: 0.748250 \t Validation Loss: 0.754914 \t Accuracy: 0.988713\n",
      "Epoch 00031: reducing learning rate of group 0 to 1.2500e-04.\n",
      "[Epoch:32] \t Training Loss: 0.748247 \t Validation Loss: 0.754760 \t Accuracy: 0.988713\n",
      "[Epoch:33] \t Training Loss: 0.748247 \t Validation Loss: 0.754777 \t Accuracy: 0.988713\n",
      "[Epoch:34] \t Training Loss: 0.748246 \t Validation Loss: 0.754773 \t Accuracy: 0.988713\n",
      "[Epoch:35] \t Training Loss: 0.748356 \t Validation Loss: 0.754756 \t Accuracy: 0.988713\n",
      "[Epoch:36] \t Training Loss: 0.748355 \t Validation Loss: 0.755082 \t Accuracy: 0.988713\n",
      "[Epoch:37] \t Training Loss: 0.748245 \t Validation Loss: 0.755140 \t Accuracy: 0.988713\n",
      "Epoch 00037: reducing learning rate of group 0 to 6.2500e-05.\n",
      "[Epoch:38] \t Training Loss: 0.748244 \t Validation Loss: 0.754757 \t Accuracy: 0.988713\n",
      "[Epoch:39] \t Training Loss: 0.748244 \t Validation Loss: 0.755017 \t Accuracy: 0.988713\n",
      "[Epoch:40] \t Training Loss: 0.748243 \t Validation Loss: 0.754934 \t Accuracy: 0.988713\n",
      "[Epoch:41] \t Training Loss: 0.748243 \t Validation Loss: 0.754820 \t Accuracy: 0.988713\n",
      "[Epoch:42] \t Training Loss: 0.748243 \t Validation Loss: 0.754770 \t Accuracy: 0.988713\n",
      "[Epoch:43] \t Training Loss: 0.748243 \t Validation Loss: 0.754755 \t Accuracy: 0.988713\n",
      "Epoch 00043: reducing learning rate of group 0 to 3.1250e-05.\n",
      "[Epoch:44] \t Training Loss: 0.748243 \t Validation Loss: 0.754833 \t Accuracy: 0.988713\n",
      "[Epoch:45] \t Training Loss: 0.748242 \t Validation Loss: 0.754762 \t Accuracy: 0.988713\n",
      "[Epoch:46] \t Training Loss: 0.748242 \t Validation Loss: 0.754765 \t Accuracy: 0.988713\n",
      "[Epoch:47] \t Training Loss: 0.748242 \t Validation Loss: 0.755073 \t Accuracy: 0.988713\n",
      "[Epoch:48] \t Training Loss: 0.748242 \t Validation Loss: 0.754760 \t Accuracy: 0.988713\n",
      "[Epoch:49] \t Training Loss: 0.748241 \t Validation Loss: 0.754755 \t Accuracy: 0.988713\n",
      "Epoch 00049: reducing learning rate of group 0 to 1.5625e-05.\n",
      "[Epoch:50] \t Training Loss: 0.748241 \t Validation Loss: 0.755266 \t Accuracy: 0.988713\n",
      "[Epoch:51] \t Training Loss: 0.748241 \t Validation Loss: 0.754917 \t Accuracy: 0.988713\n",
      "[Epoch:52] \t Training Loss: 0.748351 \t Validation Loss: 0.755227 \t Accuracy: 0.988713\n",
      "[Epoch:53] \t Training Loss: 0.748241 \t Validation Loss: 0.754805 \t Accuracy: 0.988713\n",
      "[Epoch:54] \t Training Loss: 0.748242 \t Validation Loss: 0.754760 \t Accuracy: 0.988713\n",
      "[Epoch:55] \t Training Loss: 0.748241 \t Validation Loss: 0.754759 \t Accuracy: 0.988713\n",
      "Epoch 00055: reducing learning rate of group 0 to 7.8125e-06.\n",
      "[Epoch:56] \t Training Loss: 0.748241 \t Validation Loss: 0.754775 \t Accuracy: 0.988713\n",
      "[Epoch:57] \t Training Loss: 0.748351 \t Validation Loss: 0.754835 \t Accuracy: 0.988713\n",
      "[Epoch:58] \t Training Loss: 0.748241 \t Validation Loss: 0.754759 \t Accuracy: 0.988713\n",
      "[Epoch:59] \t Training Loss: 0.748241 \t Validation Loss: 0.754757 \t Accuracy: 0.988713\n",
      "[Epoch:60] \t Training Loss: 0.748241 \t Validation Loss: 0.754762 \t Accuracy: 0.988713\n",
      "[Epoch:61] \t Training Loss: 0.748241 \t Validation Loss: 0.754766 \t Accuracy: 0.988713\n",
      "Epoch 00061: reducing learning rate of group 0 to 3.9063e-06.\n",
      "[Epoch:62] \t Training Loss: 0.748241 \t Validation Loss: 0.754763 \t Accuracy: 0.988713\n",
      "[Epoch:63] \t Training Loss: 0.748241 \t Validation Loss: 0.755202 \t Accuracy: 0.988713\n",
      "[Epoch:64] \t Training Loss: 0.748241 \t Validation Loss: 0.754759 \t Accuracy: 0.988713\n",
      "[Epoch:65] \t Training Loss: 0.748241 \t Validation Loss: 0.754758 \t Accuracy: 0.988713\n",
      "[Epoch:66] \t Training Loss: 0.748241 \t Validation Loss: 0.754760 \t Accuracy: 0.988713\n",
      "[Epoch:67] \t Training Loss: 0.748241 \t Validation Loss: 0.755194 \t Accuracy: 0.988713\n",
      "Epoch 00067: reducing learning rate of group 0 to 1.9531e-06.\n",
      "[Epoch:68] \t Training Loss: 0.748241 \t Validation Loss: 0.754759 \t Accuracy: 0.988713\n",
      "[Epoch:69] \t Training Loss: 0.748241 \t Validation Loss: 0.754814 \t Accuracy: 0.988713\n",
      "[Epoch:70] \t Training Loss: 0.748241 \t Validation Loss: 0.754802 \t Accuracy: 0.988713\n",
      "[Epoch:71] \t Training Loss: 0.748241 \t Validation Loss: 0.754972 \t Accuracy: 0.988713\n",
      "[Epoch:72] \t Training Loss: 0.748241 \t Validation Loss: 0.754764 \t Accuracy: 0.988713\n",
      "[Epoch:73] \t Training Loss: 0.748351 \t Validation Loss: 0.754765 \t Accuracy: 0.988713\n",
      "Epoch 00073: reducing learning rate of group 0 to 9.7656e-07.\n",
      "[Epoch:74] \t Training Loss: 0.748241 \t Validation Loss: 0.754765 \t Accuracy: 0.988713\n",
      "[Epoch:75] \t Training Loss: 0.748241 \t Validation Loss: 0.754929 \t Accuracy: 0.988713\n",
      "[Epoch:76] \t Training Loss: 0.748241 \t Validation Loss: 0.754759 \t Accuracy: 0.988713\n",
      "[Epoch:77] \t Training Loss: 0.748241 \t Validation Loss: 0.754766 \t Accuracy: 0.988713\n",
      "[Epoch:78] \t Training Loss: 0.748241 \t Validation Loss: 0.755266 \t Accuracy: 0.988713\n",
      "[Epoch:79] \t Training Loss: 0.748241 \t Validation Loss: 0.754761 \t Accuracy: 0.988713\n",
      "Epoch 00079: reducing learning rate of group 0 to 4.8828e-07.\n",
      "[Epoch:80] \t Training Loss: 0.748241 \t Validation Loss: 0.754759 \t Accuracy: 0.988713\n",
      "[Epoch:81] \t Training Loss: 0.748241 \t Validation Loss: 0.755322 \t Accuracy: 0.988713\n",
      "[Epoch:82] \t Training Loss: 0.748241 \t Validation Loss: 0.755020 \t Accuracy: 0.988713\n",
      "[Epoch:83] \t Training Loss: 0.748241 \t Validation Loss: 0.754805 \t Accuracy: 0.988713\n",
      "[Epoch:84] \t Training Loss: 0.748241 \t Validation Loss: 0.754761 \t Accuracy: 0.988713\n",
      "[Epoch:85] \t Training Loss: 0.748241 \t Validation Loss: 0.754766 \t Accuracy: 0.988713\n",
      "Epoch 00085: reducing learning rate of group 0 to 2.4414e-07.\n",
      "[Epoch:86] \t Training Loss: 0.748241 \t Validation Loss: 0.754760 \t Accuracy: 0.988713\n",
      "[Epoch:87] \t Training Loss: 0.748241 \t Validation Loss: 0.754888 \t Accuracy: 0.988713\n",
      "[Epoch:88] \t Training Loss: 0.748351 \t Validation Loss: 0.755194 \t Accuracy: 0.988713\n",
      "[Epoch:89] \t Training Loss: 0.748241 \t Validation Loss: 0.755671 \t Accuracy: 0.988713\n",
      "[Epoch:90] \t Training Loss: 0.748351 \t Validation Loss: 0.754767 \t Accuracy: 0.988713\n",
      "[Epoch:91] \t Training Loss: 0.748241 \t Validation Loss: 0.754760 \t Accuracy: 0.988713\n",
      "Epoch 00091: reducing learning rate of group 0 to 1.2207e-07.\n",
      "[Epoch:92] \t Training Loss: 0.748241 \t Validation Loss: 0.754760 \t Accuracy: 0.988713\n",
      "[Epoch:93] \t Training Loss: 0.748241 \t Validation Loss: 0.754759 \t Accuracy: 0.988713\n",
      "[Epoch:94] \t Training Loss: 0.748351 \t Validation Loss: 0.754759 \t Accuracy: 0.988713\n",
      "[Epoch:95] \t Training Loss: 0.748241 \t Validation Loss: 0.754761 \t Accuracy: 0.988713\n",
      "[Epoch:96] \t Training Loss: 0.748241 \t Validation Loss: 0.755184 \t Accuracy: 0.988713\n",
      "[Epoch:97] \t Training Loss: 0.748241 \t Validation Loss: 0.755193 \t Accuracy: 0.988713\n",
      "Epoch 00097: reducing learning rate of group 0 to 6.1035e-08.\n",
      "[Epoch:98] \t Training Loss: 0.748241 \t Validation Loss: 0.754761 \t Accuracy: 0.988713\n",
      "[Epoch:99] \t Training Loss: 0.748241 \t Validation Loss: 0.754770 \t Accuracy: 0.988713\n",
      "[Epoch:100] \t Training Loss: 0.748241 \t Validation Loss: 0.755020 \t Accuracy: 0.988713\n",
      "Finished Training\n"
     ]
    }
   ],
   "source": [
    "net.train()\n",
    "def get_num_correct(preds, labels):\n",
    "    return preds.round().eq(labels).sum().item()\n",
    "\n",
    "for epoch in range(epochs):  # loop over the dataset multiple times\n",
    "    net.train()\n",
    "    running_loss = 0.0\n",
    "    total_training_loss = 0.0\n",
    "    batch_count = 0\n",
    "    for i, data in enumerate(train_loader, 0):\n",
    "        batch_count += 1\n",
    "        # get the inputs; data is a list of [inputs, labels]\n",
    "        inputs, labels = data[0].to(device), data[1].to(device)\n",
    "\n",
    "        # zero the parameter gradients\n",
    "        optimizer.zero_grad()\n",
    "\n",
    "        # forward + backward + optimize\n",
    "        outputs = net(inputs)\n",
    "        loss = criterion(outputs, labels)\n",
    "        loss.backward()\n",
    "        optimizer.step()\n",
    "\n",
    "        # print statistics\n",
    "        running_loss += loss.item()\n",
    "        total_training_loss += loss.item()\n",
    "        vaccuracy = 0\n",
    "            \n",
    "    valid_loss = 0.0\n",
    "    net.eval()     # Optional when not using Model Specific layer\n",
    "    vcount = 0\n",
    "    vcorrect = 0\n",
    "    for j, vdata in enumerate(test_loader, 0):\n",
    "        vcount += 1\n",
    "        vdata, vlabels = vdata[0].to(device), vdata[1].to(device)\n",
    "        # Forward Pass\n",
    "        target = net(vdata)\n",
    "        # Find the Loss\n",
    "        loss = criterion(target,vlabels)\n",
    "        # Calculate Loss\n",
    "        valid_loss += loss.item()\n",
    "        # Calculate accuracy\n",
    "        vcorrect += (target.argmax(1) == vlabels).sum().item()\n",
    "    valid_loss = valid_loss / vcount\n",
    "    vaccuracy = vcorrect / len(test_loader.dataset)\n",
    "    print(f'[Epoch:{epoch + 1:2d}] \\t Training Loss: {running_loss / batch_count:5f} \\t Validation Loss: {valid_loss:5f} \\t Accuracy: {vaccuracy:5f}')\n",
    "    \n",
    "    # save model if loss improved, and obtain predictions\n",
    "    if (valid_loss < min_valid_loss):\n",
    "        min_valid_loss = valid_loss\n",
    "        torch.save(net, \"model.pt\")\n",
    "        print(\"evaluation loss reduced, model saved\")\n",
    "    scheduler.step(vaccuracy)\n",
    "\n",
    "print('Finished Training')"
   ]
  },
  {
   "cell_type": "code",
   "execution_count": 62,
   "metadata": {},
   "outputs": [
    {
     "data": {
      "text/plain": [
       "[Text(0.5, 14.09375, 'True'), Text(32.09374999999999, 0.5, 'Predicted')]"
      ]
     },
     "execution_count": 62,
     "metadata": {},
     "output_type": "execute_result"
    },
    {
     "data": {
      "image/png": "[encoded data removed]",
      "text/plain": [
       "<Figure size 432x288 with 2 Axes>"
      ]
     },
     "metadata": {
      "needs_background": "light"
     },
     "output_type": "display_data"
    }
   ],
   "source": [
    "from sklearn.metrics import confusion_matrix\n",
    "import seaborn as sns\n",
    "import matplotlib.pyplot as plt\n",
    "\n",
    "net = torch.load('model.pt')\n",
    "net.eval()\n",
    "y_pred = []\n",
    "y_true = []\n",
    "for j, vdata in enumerate(test_loader, 0):\n",
    "    vdata, vlabels = vdata[0].to(device), vdata[1].to(device)\n",
    "    output = net(vdata)\n",
    "    y_pred.extend(output.argmax(1).cpu().numpy())\n",
    "    y_true.extend(vlabels.cpu().numpy())\n",
    "\n",
    "cm = confusion_matrix(y_true, y_pred)\n",
    "hm = sns.heatmap(cm, annot=True, fmt=\"d\", xticklabels=classes, yticklabels=classes)\n",
    "hm.set(xlabel=\"True\", ylabel=\"Predicted\")\n"
   ]
  },
  {
   "cell_type": "code",
   "execution_count": null,
   "metadata": {},
   "outputs": [],
   "source": []
  }
 ],
 "metadata": {
  "kernelspec": {
   "display_name": "Python 3.9.12 ('capstone')",
   "language": "python",
   "name": "python3"
  },
  "language_info": {
   "codemirror_mode": {
    "name": "ipython",
    "version": 3
   },
   "file_extension": ".py",
   "mimetype": "text/x-python",
   "name": "python",
   "nbconvert_exporter": "python",
   "pygments_lexer": "ipython3",
   "version": "3.9.12"
  },
  "orig_nbformat": 4,
  "vscode": {
   "interpreter": {
    "hash": "f82d4ec2f4e1a7949fc551b5039d8b80c5fc6c2b366144cfac1fa6211cdc80ab"
   }
  }
 },
 "nbformat": 4,
 "nbformat_minor": 2
}
