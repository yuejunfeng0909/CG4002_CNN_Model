{
 "cells": [
  {
   "cell_type": "code",
   "execution_count": 25,
   "metadata": {},
   "outputs": [],
   "source": [
    "import pandas as pd\n",
    "import numpy as np\n",
    "import scipy\n",
    "import matplotlib.pyplot as plt\n",
    "from sklearn.model_selection import train_test_split\n",
    "\n",
    "from keras.models import Sequential\n",
    "from keras.layers import Dense, Flatten, Dropout, Conv1D, MaxPooling1D\n",
    "from tensorflow.keras.utils import to_categorical\n",
    "from tensorflow.keras.callbacks import ModelCheckpoint, ReduceLROnPlateau, EarlyStopping"
   ]
  },
  {
   "cell_type": "markdown",
   "metadata": {},
   "source": [
    "# Process dataset\n",
    "Extract data from the txt file for each user. We only extract the data for the time frame where the user is doing one action, not across different actions. Then we segment the data into 2 seconds window."
   ]
  },
  {
   "cell_type": "code",
   "execution_count": 26,
   "metadata": {},
   "outputs": [],
   "source": [
    "# file loader\n",
    "def load_data(file):\n",
    "    data = pd.read_csv(file, header=None, delim_whitespace = True)\n",
    "    return data.values"
   ]
  },
  {
   "cell_type": "code",
   "execution_count": 27,
   "metadata": {},
   "outputs": [
    {
     "name": "stdout",
     "output_type": "stream",
     "text": [
      "Dataset initialized with size: 4429\n",
      "Class 0 has 1161 samples\n",
      "Class 1 has 1078 samples\n",
      "Class 2 has 979 samples\n",
      "Class 3 has 1211 samples\n"
     ]
    }
   ],
   "source": [
    "N_classes = 4\n",
    "window_size = 100   # 50Hz, 100 samples = 2s of movement\n",
    "classes = ('WALKING', 'WALKING_UPSTAIRS', 'WALKING_DOWNSTAIRS', \n",
    "            'SITTING', 'STANDING', 'LAYING', 'STAND_TO_SIT', 'SIT_TO_STAND', \n",
    "            'SIT_TO_LIE', 'LIE_TO_SIT', 'STAND_TO_LIE', 'LIE_TO_STAND')[:N_classes]\n",
    "\n",
    "\n",
    "def load_dataset(data_dir):\n",
    "    raw_labels = open(data_dir + \"/labels.txt\", \"r\")\n",
    "    dataset_x = []\n",
    "    dataset_y = []\n",
    "    current_exp, current_user = 0, 0\n",
    "    acc_current_file_lines = []\n",
    "    gyro_current_file_lines = []\n",
    "    for line in raw_labels:\n",
    "        # get the experiment and user data\n",
    "        line_split = list(map(int,line.split()))\n",
    "\n",
    "        # filter out the transition movements\n",
    "        if line_split[2] > N_classes:\n",
    "            continue\n",
    "\n",
    "        # open new file if the current experiment and user are different from the previous run\n",
    "        if line_split[0] != current_exp or line_split[1] != current_user:\n",
    "            current_exp, current_user = line_split[0], line_split[1]\n",
    "\n",
    "            # Get the accelerometer data\n",
    "            # with open(data_dir + \"/acc_exp\" + str.zfill(str(current_exp), 2) + \"_user\" + str.zfill(str(current_user), 2) + \".txt\", \"r\") as accelerometer_file:\n",
    "            #     # print(\"Opened file: \" + current_file.name)\n",
    "            #     acc_current_file_lines = []\n",
    "            #     for file_line in accelerometer_file:\n",
    "            #         acc_current_file_lines.append(list(map(float, file_line.split())))\n",
    "            acc_file_name = data_dir + \"/acc_exp\" + str.zfill(str(current_exp), 2) + \"_user\" + str.zfill(str(current_user), 2) + \".txt\"\n",
    "            acc_current_file_lines = load_data(acc_file_name)\n",
    "\n",
    "            # Get the gyro data\n",
    "            # with open(data_dir + \"/gyro_exp\" + str.zfill(str(current_exp), 2) + \"_user\" + str.zfill(str(current_user), 2) + \".txt\", \"r\") as gyroscope_file:\n",
    "            #     # print(\"Opened file: \" + current_file.name)\n",
    "            #     gyro_current_file_lines = []\n",
    "            #     for file_line in gyroscope_file:\n",
    "            #         gyro_current_file_lines.append(list(map(float, file_line.split())))\n",
    "            gyro_file_name = data_dir + \"/gyro_exp\" + str.zfill(str(current_exp), 2) + \"_user\" + str.zfill(str(current_user), 2) + \".txt\"\n",
    "            gyro_current_file_lines = load_data(gyro_file_name)\n",
    "            \n",
    "        \n",
    "        # get the label, start and end indices\n",
    "        label, start, end = line_split[2:5]\n",
    "        label -= 1 # convert to 0-indexed\n",
    "\n",
    "        # sliding window\n",
    "        for i in range(start, end - window_size, window_size):\n",
    "            # calculate fft for the window\n",
    "            acc_window = acc_current_file_lines[i:i+window_size]\n",
    "            gyro_window = gyro_current_file_lines[i:i+window_size]\n",
    "            inputs = np.concatenate((acc_window, gyro_window), axis=1)\n",
    "            inputs = np.float32(np.transpose(inputs))\n",
    "            dataset_x.append(inputs)\n",
    "            dataset_y.append(label)\n",
    "\n",
    "    raw_labels.close()\n",
    "\n",
    "    print(\"Dataset initialized with size: \" + str(len(dataset_y)))\n",
    "    for i in range(N_classes):\n",
    "        print(\"Class \" + str(i) + \" has \" + str(dataset_y.count(i)) + \" samples\")\n",
    "    \n",
    "    dataset_y = to_categorical(dataset_y)\n",
    "    return np.array(dataset_x), np.array(dataset_y)\n",
    "dataset_x, dataset_y = load_dataset(\"HAPT Data Set/RawData\")\n",
    "train_x, test_x, train_y, test_y = train_test_split(dataset_x, dataset_y, test_size=0.2, random_state=42)"
   ]
  },
  {
   "cell_type": "code",
   "execution_count": 56,
   "metadata": {},
   "outputs": [
    {
     "name": "stdout",
     "output_type": "stream",
     "text": [
      "Epoch 1/100\n",
      "  1/111 [..............................] - ETA: 31s - loss: 1.4288 - accuracy: 0.2500"
     ]
    },
    {
     "name": "stderr",
     "output_type": "stream",
     "text": [
      "2022-09-04 13:42:03.816448: I tensorflow/core/grappler/optimizers/custom_graph_optimizer_registry.cc:112] Plugin optimizer for device_type GPU is enabled.\n"
     ]
    },
    {
     "name": "stdout",
     "output_type": "stream",
     "text": [
      "111/111 [==============================] - ETA: 0s - loss: 0.6909 - accuracy: 0.7127"
     ]
    },
    {
     "name": "stderr",
     "output_type": "stream",
     "text": [
      "2022-09-04 13:42:05.212242: I tensorflow/core/grappler/optimizers/custom_graph_optimizer_registry.cc:112] Plugin optimizer for device_type GPU is enabled.\n"
     ]
    },
    {
     "name": "stdout",
     "output_type": "stream",
     "text": [
      "111/111 [==============================] - 2s 14ms/step - loss: 0.6909 - accuracy: 0.7127 - val_loss: 0.3277 - val_accuracy: 0.8804 - lr: 0.0010\n",
      "Epoch 2/100\n",
      "111/111 [==============================] - 1s 13ms/step - loss: 0.2546 - accuracy: 0.9159 - val_loss: 0.1736 - val_accuracy: 0.9537 - lr: 0.0010\n",
      "Epoch 3/100\n",
      "111/111 [==============================] - 1s 12ms/step - loss: 0.1368 - accuracy: 0.9633 - val_loss: 0.0794 - val_accuracy: 0.9797 - lr: 0.0010\n",
      "Epoch 4/100\n",
      "111/111 [==============================] - 1s 11ms/step - loss: 0.0889 - accuracy: 0.9752 - val_loss: 0.0562 - val_accuracy: 0.9865 - lr: 0.0010\n",
      "Epoch 5/100\n",
      "111/111 [==============================] - 1s 11ms/step - loss: 0.0593 - accuracy: 0.9845 - val_loss: 0.0489 - val_accuracy: 0.9842 - lr: 0.0010\n",
      "Epoch 6/100\n",
      "111/111 [==============================] - 1s 12ms/step - loss: 0.0392 - accuracy: 0.9884 - val_loss: 0.0298 - val_accuracy: 0.9921 - lr: 0.0010\n",
      "Epoch 7/100\n",
      "111/111 [==============================] - 1s 12ms/step - loss: 0.0293 - accuracy: 0.9929 - val_loss: 0.0261 - val_accuracy: 0.9921 - lr: 0.0010\n",
      "Epoch 8/100\n",
      "111/111 [==============================] - 1s 11ms/step - loss: 0.0265 - accuracy: 0.9927 - val_loss: 0.0322 - val_accuracy: 0.9865 - lr: 0.0010\n",
      "Epoch 9/100\n",
      "111/111 [==============================] - 1s 11ms/step - loss: 0.0206 - accuracy: 0.9946 - val_loss: 0.0181 - val_accuracy: 0.9944 - lr: 0.0010\n",
      "Epoch 10/100\n",
      "111/111 [==============================] - 1s 12ms/step - loss: 0.0166 - accuracy: 0.9975 - val_loss: 0.0191 - val_accuracy: 0.9932 - lr: 0.0010\n",
      "Epoch 11/100\n",
      "111/111 [==============================] - 1s 11ms/step - loss: 0.0190 - accuracy: 0.9932 - val_loss: 0.0193 - val_accuracy: 0.9921 - lr: 0.0010\n",
      "Epoch 12/100\n",
      "111/111 [==============================] - 1s 11ms/step - loss: 0.0121 - accuracy: 0.9983 - val_loss: 0.0143 - val_accuracy: 0.9977 - lr: 0.0010\n",
      "Epoch 13/100\n",
      "111/111 [==============================] - 1s 11ms/step - loss: 0.0114 - accuracy: 0.9960 - val_loss: 0.0301 - val_accuracy: 0.9910 - lr: 0.0010\n",
      "Epoch 14/100\n",
      "111/111 [==============================] - 1s 12ms/step - loss: 0.0103 - accuracy: 0.9972 - val_loss: 0.0169 - val_accuracy: 0.9932 - lr: 0.0010\n",
      "Epoch 15/100\n",
      "111/111 [==============================] - 1s 11ms/step - loss: 0.0067 - accuracy: 0.9986 - val_loss: 0.0108 - val_accuracy: 0.9955 - lr: 0.0010\n",
      "Epoch 16/100\n",
      "111/111 [==============================] - 1s 11ms/step - loss: 0.0061 - accuracy: 0.9986 - val_loss: 0.0131 - val_accuracy: 0.9966 - lr: 0.0010\n",
      "Epoch 17/100\n",
      "111/111 [==============================] - 1s 11ms/step - loss: 0.0040 - accuracy: 0.9994 - val_loss: 0.0184 - val_accuracy: 0.9932 - lr: 0.0010\n",
      "Epoch 18/100\n",
      "111/111 [==============================] - 1s 13ms/step - loss: 0.0079 - accuracy: 0.9986 - val_loss: 0.0073 - val_accuracy: 0.9966 - lr: 0.0010\n",
      "Epoch 19/100\n",
      "111/111 [==============================] - 1s 11ms/step - loss: 0.0039 - accuracy: 0.9992 - val_loss: 0.0104 - val_accuracy: 0.9955 - lr: 0.0010\n",
      "Epoch 20/100\n",
      "111/111 [==============================] - 1s 12ms/step - loss: 0.0060 - accuracy: 0.9980 - val_loss: 0.0177 - val_accuracy: 0.9932 - lr: 0.0010\n",
      "Epoch 21/100\n",
      "111/111 [==============================] - 1s 11ms/step - loss: 0.0080 - accuracy: 0.9989 - val_loss: 0.0138 - val_accuracy: 0.9955 - lr: 0.0010\n",
      "Epoch 22/100\n",
      "111/111 [==============================] - 1s 12ms/step - loss: 0.0026 - accuracy: 0.9997 - val_loss: 0.0131 - val_accuracy: 0.9966 - lr: 0.0010\n",
      "Epoch 23/100\n",
      "111/111 [==============================] - 1s 11ms/step - loss: 0.0091 - accuracy: 0.9966 - val_loss: 0.0250 - val_accuracy: 0.9955 - lr: 0.0010\n",
      "Epoch 24/100\n",
      "111/111 [==============================] - 1s 12ms/step - loss: 0.0042 - accuracy: 0.9989 - val_loss: 0.0137 - val_accuracy: 0.9955 - lr: 1.0000e-04\n",
      "Epoch 25/100\n",
      "111/111 [==============================] - 1s 12ms/step - loss: 0.0018 - accuracy: 1.0000 - val_loss: 0.0133 - val_accuracy: 0.9944 - lr: 1.0000e-04\n",
      "Epoch 26/100\n",
      "111/111 [==============================] - 1s 12ms/step - loss: 0.0019 - accuracy: 1.0000 - val_loss: 0.0127 - val_accuracy: 0.9955 - lr: 1.0000e-04\n",
      "Epoch 27/100\n",
      "111/111 [==============================] - 1s 12ms/step - loss: 0.0021 - accuracy: 0.9997 - val_loss: 0.0121 - val_accuracy: 0.9966 - lr: 1.0000e-04\n",
      "Epoch 28/100\n",
      "111/111 [==============================] - 1s 12ms/step - loss: 0.0018 - accuracy: 1.0000 - val_loss: 0.0125 - val_accuracy: 0.9966 - lr: 1.0000e-04\n",
      "Epoch 29/100\n",
      "111/111 [==============================] - 1s 12ms/step - loss: 0.0019 - accuracy: 0.9997 - val_loss: 0.0118 - val_accuracy: 0.9966 - lr: 1.0000e-05\n",
      "Epoch 30/100\n",
      "111/111 [==============================] - 1s 11ms/step - loss: 0.0017 - accuracy: 0.9997 - val_loss: 0.0117 - val_accuracy: 0.9966 - lr: 1.0000e-05\n",
      "Epoch 31/100\n",
      "111/111 [==============================] - 1s 11ms/step - loss: 0.0015 - accuracy: 1.0000 - val_loss: 0.0117 - val_accuracy: 0.9966 - lr: 1.0000e-05\n",
      "Epoch 32/100\n",
      "111/111 [==============================] - 1s 11ms/step - loss: 0.0018 - accuracy: 0.9997 - val_loss: 0.0118 - val_accuracy: 0.9966 - lr: 1.0000e-05\n",
      "Epoch 33/100\n",
      "111/111 [==============================] - 1s 11ms/step - loss: 0.0023 - accuracy: 0.9997 - val_loss: 0.0116 - val_accuracy: 0.9966 - lr: 1.0000e-05\n",
      "Epoch 34/100\n",
      "111/111 [==============================] - 1s 12ms/step - loss: 0.0020 - accuracy: 0.9997 - val_loss: 0.0115 - val_accuracy: 0.9966 - lr: 1.0000e-06\n",
      "Epoch 35/100\n",
      "111/111 [==============================] - 1s 11ms/step - loss: 0.0017 - accuracy: 1.0000 - val_loss: 0.0115 - val_accuracy: 0.9966 - lr: 1.0000e-06\n",
      "Epoch 36/100\n",
      "111/111 [==============================] - 1s 11ms/step - loss: 0.0013 - accuracy: 1.0000 - val_loss: 0.0115 - val_accuracy: 0.9966 - lr: 1.0000e-06\n",
      "Epoch 37/100\n",
      "111/111 [==============================] - 1s 11ms/step - loss: 0.0012 - accuracy: 1.0000 - val_loss: 0.0115 - val_accuracy: 0.9966 - lr: 1.0000e-06\n",
      "Epoch 38/100\n",
      "111/111 [==============================] - 1s 12ms/step - loss: 0.0015 - accuracy: 1.0000 - val_loss: 0.0114 - val_accuracy: 0.9966 - lr: 1.0000e-06\n"
     ]
    }
   ],
   "source": [
    "model = Sequential()\n",
    "model.add(Conv1D(16, 20, activation='relu', input_shape=(6, 100), data_format='channels_first'))\n",
    "model.add(Dropout(0.5)) # 50% dropout\n",
    "# model.add(Conv1D(32, 40, activation='relu', data_format='channels_first'))\n",
    "model.add(Flatten())\n",
    "model.add(Dense(16, activation='relu'))\n",
    "model.add(Dense(N_classes, activation='softmax'))\n",
    "\n",
    "model.compile(loss='categorical_crossentropy', optimizer='adam', metrics=['accuracy'])\n",
    "\n",
    "# checkpoint callback\n",
    "checkpoint_filepath = \"model_checkpoint/\"\n",
    "model_checkpoint_callback = ModelCheckpoint(\n",
    "    filepath=checkpoint_filepath,\n",
    "    save_weights_only=True,\n",
    "    monitor='val_loss',\n",
    "    mode='min',\n",
    "    save_best_only=True)\n",
    "\n",
    "# learning rate reduce on plateau callback\n",
    "reduce_lr = ReduceLROnPlateau(monitor='val_loss', factor=0.1, patience=5, min_lr=0)\n",
    "\n",
    "# early stopping callback\n",
    "early_stopping = EarlyStopping(monitor='val_loss', patience=20)\n",
    "\n",
    "# Train the model\n",
    "def train_network(model, train_x, train_y, test_x, test_y):\n",
    "    verbose = 1 # 0 for no logging to stdout, 1 for progress bar logging, 2 for one log line per epoch.\n",
    "    epochs = 100\n",
    "    batch_size = 32\n",
    "    model.fit(train_x, train_y, epochs=epochs, batch_size=batch_size, validation_data=(test_x, test_y), callbacks = [model_checkpoint_callback, reduce_lr, early_stopping], verbose=verbose)\n",
    "    _, accuracy = model.evaluate(test_x, test_y, batch_size=batch_size, verbose=0)\n",
    "    return model\n",
    "\n",
    "model = train_network(model, train_x, train_y, test_x, test_y)"
   ]
  },
  {
   "cell_type": "markdown",
   "metadata": {},
   "source": [
    "# Draw confusion matrix"
   ]
  },
  {
   "cell_type": "code",
   "execution_count": 57,
   "metadata": {},
   "outputs": [
    {
     "name": "stderr",
     "output_type": "stream",
     "text": [
      "2022-09-04 13:42:57.266434: I tensorflow/core/grappler/optimizers/custom_graph_optimizer_registry.cc:112] Plugin optimizer for device_type GPU is enabled.\n"
     ]
    },
    {
     "data": {
      "text/plain": [
       "Text(32.09374999999999, 0.5, 'Predicted')"
      ]
     },
     "execution_count": 57,
     "metadata": {},
     "output_type": "execute_result"
    },
    {
     "data": {
      "image/png": "[encoded data removed]",
      "text/plain": [
       "<Figure size 432x288 with 2 Axes>"
      ]
     },
     "metadata": {
      "needs_background": "light"
     },
     "output_type": "display_data"
    }
   ],
   "source": [
    "from sklearn.metrics import confusion_matrix\n",
    "import seaborn as sns\n",
    "import matplotlib.pyplot as plt\n",
    "\n",
    "model.load_weights(checkpoint_filepath)\n",
    "y_prediction = np.argmax(model.predict(test_x), axis=1)\n",
    "result = confusion_matrix(np.argmax(test_y, axis=1), y_prediction)\n",
    "sns.heatmap(result, annot=True, fmt=\"d\", xticklabels=classes, yticklabels=classes)\n",
    "plt.xlabel(\"True\")\n",
    "plt.ylabel(\"Predicted\")\n"
   ]
  },
  {
   "cell_type": "code",
   "execution_count": 58,
   "metadata": {},
   "outputs": [
    {
     "name": "stdout",
     "output_type": "stream",
     "text": [
      "Model: \"sequential_13\"\n",
      "_________________________________________________________________\n",
      " Layer (type)                Output Shape              Param #   \n",
      "=================================================================\n",
      " conv1d_26 (Conv1D)          (None, 16, 81)            1936      \n",
      "                                                                 \n",
      " dropout_13 (Dropout)        (None, 16, 81)            0         \n",
      "                                                                 \n",
      " flatten_13 (Flatten)        (None, 1296)              0         \n",
      "                                                                 \n",
      " dense_26 (Dense)            (None, 16)                20752     \n",
      "                                                                 \n",
      " dense_27 (Dense)            (None, 4)                 68        \n",
      "                                                                 \n",
      "=================================================================\n",
      "Total params: 22,756\n",
      "Trainable params: 22,756\n",
      "Non-trainable params: 0\n",
      "_________________________________________________________________\n"
     ]
    }
   ],
   "source": [
    "model.summary()"
   ]
  },
  {
   "cell_type": "code",
   "execution_count": null,
   "metadata": {},
   "outputs": [],
   "source": []
  }
 ],
 "metadata": {
  "kernelspec": {
   "display_name": "Python 3.9.12 ('capstone')",
   "language": "python",
   "name": "python3"
  },
  "language_info": {
   "codemirror_mode": {
    "name": "ipython",
    "version": 3
   },
   "file_extension": ".py",
   "mimetype": "text/x-python",
   "name": "python",
   "nbconvert_exporter": "python",
   "pygments_lexer": "ipython3",
   "version": "3.9.12"
  },
  "orig_nbformat": 4,
  "vscode": {
   "interpreter": {
    "hash": "f82d4ec2f4e1a7949fc551b5039d8b80c5fc6c2b366144cfac1fa6211cdc80ab"
   }
  }
 },
 "nbformat": 4,
 "nbformat_minor": 2
}
