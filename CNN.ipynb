{
 "cells": [
  {
   "cell_type": "code",
   "execution_count": 1,
   "metadata": {},
   "outputs": [],
   "source": [
    "import pandas as pd\n",
    "import numpy as np\n",
    "import scipy\n",
    "import matplotlib.pyplot as plt\n",
    "from sklearn.model_selection import train_test_split\n",
    "\n",
    "from keras.models import Sequential\n",
    "from keras.layers import Dense, Flatten, Dropout, Conv1D, MaxPooling1D\n",
    "from tensorflow.keras.utils import to_categorical\n",
    "from tensorflow.keras.callbacks import ModelCheckpoint, ReduceLROnPlateau, EarlyStopping\n",
    "\n",
    "from sklearn.metrics import confusion_matrix\n",
    "import seaborn as sns\n",
    "import matplotlib.pyplot as plt"
   ]
  },
  {
   "cell_type": "markdown",
   "metadata": {},
   "source": [
    "# Process dataset\n",
    "Extract data from the txt file for each user. We only extract the data for the time frame where the user is doing one action, not across different actions. Then we segment the data into 2 seconds window."
   ]
  },
  {
   "cell_type": "code",
   "execution_count": 7,
   "metadata": {},
   "outputs": [],
   "source": [
    "# file loader\n",
    "from os.path import isfile\n",
    "\n",
    "def load_data(file):\n",
    "    data = pd.read_csv(file, header=None)\n",
    "    return data.values"
   ]
  },
  {
   "cell_type": "code",
   "execution_count": 71,
   "metadata": {},
   "outputs": [
    {
     "name": "stdout",
     "output_type": "stream",
     "text": [
      "Dataset initialized with size: 58\n",
      "Class 0 has 11 samples\n",
      "Class 1 has 47 samples\n",
      "\n",
      "Test set distribution\n",
      "Class 0 has 2 samples\n",
      "Class 1 has 10 samples\n"
     ]
    }
   ],
   "source": [
    "window_size = 75   # 50Hz, 75 samples = 1.5s of movement\n",
    "window_stride = 25\n",
    "action_types = ('grenade', 'reload')\n",
    "data_depth = 6\n",
    "\n",
    "def load_dataset(data_dir):\n",
    "    dataset_x = []\n",
    "    dataset_y = []\n",
    "    for action_type in action_types:\n",
    "\n",
    "        for i in range(1, 100, 1):\n",
    "            # if file exists\n",
    "            if not isfile(data_dir + f\"/{action_type}{i}.csv\"):\n",
    "                break\n",
    "            data = load_data(data_dir + f\"/{action_type}{i}.csv\")\n",
    "\n",
    "            # sliding window\n",
    "            for j in range(0, len(data) - window_size+1, window_stride):\n",
    "                dataset_x.append(data[j:j + window_size])\n",
    "                dataset_y.append(action_types.index(action_type))\n",
    "\n",
    "    print(\"Dataset initialized with size: \" + str(len(dataset_y)))\n",
    "    for i in range(len(action_types)):\n",
    "        print(\"Class \" + str(i) + \" has \" + str(dataset_y.count(i)) + \" samples\")\n",
    "    dataset_x = np.float32(dataset_x)/32\n",
    "    dataset_y = to_categorical(dataset_y)\n",
    "    return np.array(dataset_x), np.array(dataset_y)\n",
    "\n",
    "# load dataset\n",
    "dataset_x, dataset_y = load_dataset(\"Dataset\")\n",
    "\n",
    "# split into train and test sets\n",
    "train_x, test_x, train_y, test_y = train_test_split(dataset_x, dataset_y, test_size=0.2, stratify = dataset_y)\n",
    "\n",
    "# summary of test dataset\n",
    "test = np.argmax(test_y, axis=1)\n",
    "print(\"\\nTest set distribution\")\n",
    "for i in range(len(action_types)):\n",
    "    print(\"Class \" + str(i) + \" has \" + str(test.tolist().count(i)) + \" samples\")\n"
   ]
  },
  {
   "cell_type": "code",
   "execution_count": 72,
   "metadata": {},
   "outputs": [
    {
     "name": "stdout",
     "output_type": "stream",
     "text": [
      "Model: \"sequential_9\"\n",
      "_________________________________________________________________\n",
      " Layer (type)                Output Shape              Param #   \n",
      "=================================================================\n",
      " conv1d_9 (Conv1D)           (None, 11, 16)            2416      \n",
      "                                                                 \n",
      " dropout_6 (Dropout)         (None, 11, 16)            0         \n",
      "                                                                 \n",
      " flatten_6 (Flatten)         (None, 176)               0         \n",
      "                                                                 \n",
      " dense_6 (Dense)             (None, 2)                 354       \n",
      "                                                                 \n",
      "=================================================================\n",
      "Total params: 2,770\n",
      "Trainable params: 2,770\n",
      "Non-trainable params: 0\n",
      "_________________________________________________________________\n",
      "WARNING:tensorflow:5 out of the last 11 calls to <function Model.make_predict_function.<locals>.predict_function at 0x2b69e0a60> triggered tf.function retracing. Tracing is expensive and the excessive number of tracings could be due to (1) creating @tf.function repeatedly in a loop, (2) passing tensors with different shapes, (3) passing Python objects instead of tensors. For (1), please define your @tf.function outside of the loop. For (2), @tf.function has experimental_relax_shapes=True option that relaxes argument shapes that can avoid unnecessary retracing. For (3), please refer to https://www.tensorflow.org/guide/function#controlling_retracing and https://www.tensorflow.org/api_docs/python/tf/function for  more details.\n"
     ]
    },
    {
     "name": "stderr",
     "output_type": "stream",
     "text": [
      "2022-09-10 16:55:53.051629: I tensorflow/core/grappler/optimizers/custom_graph_optimizer_registry.cc:112] Plugin optimizer for device_type GPU is enabled.\n"
     ]
    },
    {
     "data": {
      "image/png": "[encoded data removed]",
      "text/plain": [
       "<Figure size 432x288 with 2 Axes>"
      ]
     },
     "metadata": {
      "needs_background": "light"
     },
     "output_type": "display_data"
    }
   ],
   "source": [
    "conv1filters = 16\n",
    "conv1kernel = 25\n",
    "conv1stride = 5\n",
    "\n",
    "model = Sequential()\n",
    "model.add(Conv1D(conv1filters, conv1kernel, strides=conv1stride, activation='relu', input_shape=(window_size, 6)))\n",
    "model.add(Dropout(0.5)) # 50% dropout\n",
    "# model.add(Conv1D(32, 40, activation='relu', data_format='channels_first'))\n",
    "model.add(Flatten())\n",
    "# model.add(Dense(16, activation='relu'))\n",
    "model.add(Dense(len(action_types), activation='softmax'))\n",
    "\n",
    "model.compile(loss='categorical_crossentropy', optimizer='adam', metrics=['accuracy'])\n",
    "model.summary()\n",
    "\n",
    "# performance before training\n",
    "y_prediction = np.argmax(model.predict(test_x), axis=1)\n",
    "result = confusion_matrix(np.argmax(test_y, axis=1), y_prediction)\n",
    "sns.heatmap(result, annot=True, fmt=\"d\", xticklabels=action_types, yticklabels=action_types)\n",
    "plt.xlabel(\"Predicted\")\n",
    "plt.ylabel(\"True\")\n",
    "plt.show()"
   ]
  },
  {
   "cell_type": "code",
   "execution_count": 73,
   "metadata": {},
   "outputs": [],
   "source": [
    "# checkpoint callback\n",
    "checkpoint_filepath = \"model_checkpoint/\"\n",
    "model_checkpoint_callback = ModelCheckpoint(\n",
    "    filepath=checkpoint_filepath,\n",
    "    save_weights_only=True,\n",
    "    monitor='val_loss',\n",
    "    mode='min',\n",
    "    save_best_only=True)\n",
    "\n",
    "# learning rate reduce on plateau callback\n",
    "reduce_lr = ReduceLROnPlateau(monitor='val_loss', factor=0.1, patience=5, min_lr=0)\n",
    "\n",
    "# early stopping callback\n",
    "early_stopping = EarlyStopping(monitor='val_loss', patience=20)"
   ]
  },
  {
   "cell_type": "code",
   "execution_count": 74,
   "metadata": {},
   "outputs": [
    {
     "name": "stdout",
     "output_type": "stream",
     "text": [
      "Epoch 1/100\n",
      "1/2 [==============>...............] - ETA: 0s - loss: 78.6695 - accuracy: 0.3750"
     ]
    },
    {
     "name": "stderr",
     "output_type": "stream",
     "text": [
      "2022-09-10 16:55:54.798719: I tensorflow/core/grappler/optimizers/custom_graph_optimizer_registry.cc:112] Plugin optimizer for device_type GPU is enabled.\n",
      "2022-09-10 16:55:54.967747: I tensorflow/core/grappler/optimizers/custom_graph_optimizer_registry.cc:112] Plugin optimizer for device_type GPU is enabled.\n"
     ]
    },
    {
     "name": "stdout",
     "output_type": "stream",
     "text": [
      "2/2 [==============================] - 0s 123ms/step - loss: 84.4004 - accuracy: 0.3913 - val_loss: 29.4682 - val_accuracy: 0.5000 - lr: 0.0010\n",
      "Epoch 2/100\n",
      "2/2 [==============================] - 0s 40ms/step - loss: 60.7023 - accuracy: 0.4348 - val_loss: 20.7988 - val_accuracy: 0.6667 - lr: 0.0010\n",
      "Epoch 3/100\n",
      "2/2 [==============================] - 0s 39ms/step - loss: 34.1403 - accuracy: 0.6087 - val_loss: 14.7549 - val_accuracy: 0.6667 - lr: 0.0010\n",
      "Epoch 4/100\n",
      "2/2 [==============================] - 0s 39ms/step - loss: 17.9648 - accuracy: 0.6957 - val_loss: 10.4405 - val_accuracy: 0.8333 - lr: 0.0010\n",
      "Epoch 5/100\n",
      "2/2 [==============================] - 0s 40ms/step - loss: 13.3464 - accuracy: 0.8478 - val_loss: 5.5132 - val_accuracy: 0.8333 - lr: 0.0010\n",
      "Epoch 6/100\n",
      "2/2 [==============================] - 0s 39ms/step - loss: 10.6552 - accuracy: 0.8043 - val_loss: 1.1666 - val_accuracy: 0.9167 - lr: 0.0010\n",
      "Epoch 7/100\n",
      "2/2 [==============================] - 0s 38ms/step - loss: 4.8583 - accuracy: 0.9130 - val_loss: 0.0000e+00 - val_accuracy: 1.0000 - lr: 0.0010\n",
      "Epoch 8/100\n",
      "2/2 [==============================] - 0s 28ms/step - loss: 7.4134 - accuracy: 0.8913 - val_loss: 0.0000e+00 - val_accuracy: 1.0000 - lr: 0.0010\n",
      "Epoch 9/100\n",
      "2/2 [==============================] - 0s 28ms/step - loss: 5.3471 - accuracy: 0.9348 - val_loss: 0.0000e+00 - val_accuracy: 1.0000 - lr: 0.0010\n",
      "Epoch 10/100\n",
      "2/2 [==============================] - 0s 30ms/step - loss: 2.0614 - accuracy: 0.9565 - val_loss: 0.0000e+00 - val_accuracy: 1.0000 - lr: 0.0010\n",
      "Epoch 11/100\n",
      "2/2 [==============================] - 0s 28ms/step - loss: 0.8749 - accuracy: 0.9565 - val_loss: 0.0000e+00 - val_accuracy: 1.0000 - lr: 0.0010\n",
      "Epoch 12/100\n",
      "2/2 [==============================] - 0s 29ms/step - loss: 4.7602e-07 - accuracy: 1.0000 - val_loss: 0.0000e+00 - val_accuracy: 1.0000 - lr: 0.0010\n",
      "Epoch 13/100\n",
      "2/2 [==============================] - 0s 28ms/step - loss: 6.0360 - accuracy: 0.9130 - val_loss: 0.0000e+00 - val_accuracy: 1.0000 - lr: 1.0000e-04\n",
      "Epoch 14/100\n",
      "2/2 [==============================] - 0s 31ms/step - loss: 0.6418 - accuracy: 0.9783 - val_loss: 0.0000e+00 - val_accuracy: 1.0000 - lr: 1.0000e-04\n",
      "Epoch 15/100\n",
      "2/2 [==============================] - 0s 31ms/step - loss: 0.9473 - accuracy: 0.9783 - val_loss: 0.0000e+00 - val_accuracy: 1.0000 - lr: 1.0000e-04\n",
      "Epoch 16/100\n",
      "2/2 [==============================] - 0s 32ms/step - loss: 0.3931 - accuracy: 0.9783 - val_loss: 0.0000e+00 - val_accuracy: 1.0000 - lr: 1.0000e-04\n",
      "Epoch 17/100\n",
      "2/2 [==============================] - 0s 31ms/step - loss: 0.1363 - accuracy: 0.9783 - val_loss: 0.0000e+00 - val_accuracy: 1.0000 - lr: 1.0000e-04\n",
      "Epoch 18/100\n",
      "2/2 [==============================] - 0s 29ms/step - loss: 0.0562 - accuracy: 0.9783 - val_loss: 0.0000e+00 - val_accuracy: 1.0000 - lr: 1.0000e-05\n",
      "Epoch 19/100\n",
      "2/2 [==============================] - 0s 32ms/step - loss: 0.9560 - accuracy: 0.9565 - val_loss: 0.0000e+00 - val_accuracy: 1.0000 - lr: 1.0000e-05\n",
      "Epoch 20/100\n",
      "2/2 [==============================] - 0s 31ms/step - loss: 0.0000e+00 - accuracy: 1.0000 - val_loss: 0.0000e+00 - val_accuracy: 1.0000 - lr: 1.0000e-05\n",
      "Epoch 21/100\n",
      "2/2 [==============================] - 0s 31ms/step - loss: 0.1901 - accuracy: 0.9783 - val_loss: 0.0000e+00 - val_accuracy: 1.0000 - lr: 1.0000e-05\n",
      "Epoch 22/100\n",
      "2/2 [==============================] - 0s 34ms/step - loss: 0.6053 - accuracy: 0.9783 - val_loss: 0.0000e+00 - val_accuracy: 1.0000 - lr: 1.0000e-05\n",
      "Epoch 23/100\n",
      "2/2 [==============================] - 0s 35ms/step - loss: 0.0063 - accuracy: 1.0000 - val_loss: 0.0000e+00 - val_accuracy: 1.0000 - lr: 1.0000e-06\n",
      "Epoch 24/100\n",
      "2/2 [==============================] - 0s 30ms/step - loss: 0.0029 - accuracy: 1.0000 - val_loss: 0.0000e+00 - val_accuracy: 1.0000 - lr: 1.0000e-06\n",
      "Epoch 25/100\n",
      "2/2 [==============================] - 0s 33ms/step - loss: 0.0062 - accuracy: 1.0000 - val_loss: 0.0000e+00 - val_accuracy: 1.0000 - lr: 1.0000e-06\n",
      "Epoch 26/100\n",
      "2/2 [==============================] - 0s 34ms/step - loss: 0.0062 - accuracy: 1.0000 - val_loss: 0.0000e+00 - val_accuracy: 1.0000 - lr: 1.0000e-06\n",
      "Epoch 27/100\n",
      "2/2 [==============================] - 0s 33ms/step - loss: 2.8489e-06 - accuracy: 1.0000 - val_loss: 0.0000e+00 - val_accuracy: 1.0000 - lr: 1.0000e-06\n"
     ]
    }
   ],
   "source": [
    "# Train the model\n",
    "def train_network(model, train_x, train_y, test_x, test_y):\n",
    "    verbose = 1 # 0 for no logging to stdout, 1 for progress bar logging, 2 for one log line per epoch.\n",
    "    epochs = 100\n",
    "    batch_size = 32\n",
    "    model.fit(train_x, train_y, epochs=epochs, batch_size=batch_size, validation_data=(test_x, test_y), callbacks = [model_checkpoint_callback, reduce_lr, early_stopping], verbose=verbose)\n",
    "    _, accuracy = model.evaluate(test_x, test_y, batch_size=batch_size, verbose=0)\n",
    "    return model\n",
    "\n",
    "model = train_network(model, train_x, train_y, test_x, test_y)"
   ]
  },
  {
   "cell_type": "markdown",
   "metadata": {},
   "source": [
    "# Draw confusion matrix"
   ]
  },
  {
   "cell_type": "code",
   "execution_count": 65,
   "metadata": {},
   "outputs": [
    {
     "data": {
      "image/png": "[encoded data removed]",
      "text/plain": [
       "<Figure size 432x288 with 2 Axes>"
      ]
     },
     "metadata": {
      "needs_background": "light"
     },
     "output_type": "display_data"
    }
   ],
   "source": [
    "from sklearn.metrics import confusion_matrix\n",
    "import seaborn as sns\n",
    "import matplotlib.pyplot as plt\n",
    "\n",
    "model.load_weights(checkpoint_filepath)\n",
    "y_prediction = np.argmax(model.predict(test_x), axis=1)\n",
    "result = confusion_matrix(np.argmax(test_y, axis=1), y_prediction)\n",
    "sns.heatmap(result, annot=True, fmt=\"d\", xticklabels=action_types, yticklabels=action_types)\n",
    "plt.xlabel(\"Predicted\")\n",
    "plt.ylabel(\"True\")\n",
    "plt.show()\n"
   ]
  },
  {
   "cell_type": "code",
   "execution_count": 80,
   "metadata": {},
   "outputs": [
    {
     "name": "stdout",
     "output_type": "stream",
     "text": [
      "window shape: (75, 6)\n",
      "kernel shape: (25, 6)\n",
      "first layer weights shape: (25, 6, 16)\n",
      "first layer output shape: (None, 11, 16)\n",
      "second layer weights shape: (176, 2)\n",
      "second layer output shape: (None, 2)\n"
     ]
    }
   ],
   "source": [
    "print(f\"window shape: {window_size, data_depth}\")\n",
    "print(f\"kernel shape: {conv1kernel, data_depth}\")\n",
    "print(f\"first layer weights shape: {model.layers[0].get_weights()[0].shape}\")\n",
    "print(f\"first layer output shape: {model.layers[0].output_shape}\")\n",
    "print(f\"second layer weights shape: {model.layers[3].get_weights()[0].shape}\")\n",
    "print(f\"second layer output shape: {model.layers[3].output_shape}\")"
   ]
  },
  {
   "cell_type": "code",
   "execution_count": null,
   "metadata": {},
   "outputs": [],
   "source": []
  }
 ],
 "metadata": {
  "kernelspec": {
   "display_name": "Python 3.9.12 ('capstone')",
   "language": "python",
   "name": "python3"
  },
  "language_info": {
   "codemirror_mode": {
    "name": "ipython",
    "version": 3
   },
   "file_extension": ".py",
   "mimetype": "text/x-python",
   "name": "python",
   "nbconvert_exporter": "python",
   "pygments_lexer": "ipython3",
   "version": "3.9.13"
  },
  "orig_nbformat": 4,
  "vscode": {
   "interpreter": {
    "hash": "f82d4ec2f4e1a7949fc551b5039d8b80c5fc6c2b366144cfac1fa6211cdc80ab"
   }
  }
 },
 "nbformat": 4,
 "nbformat_minor": 2
}
